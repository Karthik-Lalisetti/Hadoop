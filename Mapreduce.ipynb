{
 "cells": [
  {
   "cell_type": "code",
   "execution_count": 2,
   "id": "32ddad9b",
   "metadata": {},
   "outputs": [],
   "source": [
    "#creating a dictionary with key-value pair\n",
    "weather_record = {\n",
    "    '2019':28.5,\n",
    "    '2020':29.5,\n",
    "    '2021':38.5,\n",
    "    '2022':48.5,\n",
    "    '2023':72.5,\n",
    "    '2024':65.5,\n",
    "    '2025':48.5,\n",
    "    '2026':25.5,\n",
    "}"
   ]
  },
  {
   "cell_type": "code",
   "execution_count": 3,
   "id": "eda6f595",
   "metadata": {},
   "outputs": [
    {
     "name": "stdout",
     "output_type": "stream",
     "text": [
      "38.5\n"
     ]
    }
   ],
   "source": [
    "print(weather_record['2021'])"
   ]
  },
  {
   "cell_type": "code",
   "execution_count": 4,
   "id": "62b57497",
   "metadata": {},
   "outputs": [],
   "source": [
    "#adding a new key-value pair\n",
    "weather_record['2027'] = 52.5"
   ]
  },
  {
   "cell_type": "code",
   "execution_count": 7,
   "id": "e56c6b13",
   "metadata": {},
   "outputs": [
    {
     "name": "stdout",
     "output_type": "stream",
     "text": [
      "Year:2019,Temperature: 28.5\n",
      "Year:2020,Temperature: 29.5\n",
      "Year:2021,Temperature: 38.5\n",
      "Year:2022,Temperature: 48.5\n",
      "Year:2023,Temperature: 72.5\n",
      "Year:2024,Temperature: 65.5\n",
      "Year:2025,Temperature: 48.5\n",
      "Year:2026,Temperature: 25.5\n",
      "Year:2027,Temperature: 52.5\n"
     ]
    }
   ],
   "source": [
    "for year,temperature in weather_record.items():\n",
    "    print(f\"Year:{year},Temperature: {temperature}\")"
   ]
  },
  {
   "cell_type": "code",
   "execution_count": 8,
   "id": "6de47129",
   "metadata": {},
   "outputs": [],
   "source": [
    "weather_records_1 = {\n",
    "    '2019': [28.5, 29.0, 28.2],\n",
    "    '2020': [29.2, 29.5, 30.0],\n",
    "    '2021': [30.0, 30.5, 31.0],\n",
    "    '2022': [31.5, 32.0, 30.8],\n",
    "    '2023': [30.8, 30.5, 29.5],\n",
    "}\n",
    "\n",
    "weather_records_2 = {\n",
    "    '2022': [32.5, 33.0, 31.8],\n",
    "    '2023': [29.8, 30.2, 28.5],\n",
    "    '2024': [28.0, 29.5, 30.2],\n",
    "    '2025': [30.2, 31.0, 29.8],\n",
    "    '2026': [31.5, 32.0, 33.0],\n",
    "}"
   ]
  },
  {
   "cell_type": "code",
   "execution_count": 18,
   "id": "a91bcc13",
   "metadata": {},
   "outputs": [],
   "source": [
    "#combine both dictionaries\n",
    "combine_weather_records = {**weather_records_1,**weather_records_2}\n",
    "# now we want map function to do data preparation\n",
    "# map: extract max. temperature by year\n",
    "#created a tuple where each element is year and temp  \n",
    "mapped_max_temps = map(lambda year_temps: (year_temps[0], max(year_temps[1])), combine_weather_records.items())\n",
    "\n",
    "\n"
   ]
  },
  {
   "cell_type": "code",
   "execution_count": null,
   "id": "cc4d41f2",
   "metadata": {},
   "outputs": [],
   "source": [
    "# Map: Extract maximum temperatures by year\n",
    "#mapped_max_temps = map(lambda year_temps: (year_temps[0], max(year_temps[1])), combined_weather_records.items())\n",
    "\n",
    "\n",
    "# map function example\n",
    "# Python program to demonstrate working\n",
    "# of map.\n",
    " \n",
    "# Return double of n\n",
    "def addition(n):\n",
    "    return n + n\n",
    " \n",
    "# We double all numbers using map()\n",
    "numbers = (1, 2, 3, 4)\n",
    "result = map(addition, numbers)\n",
    "print(list(result))\n"
   ]
  },
  {
   "cell_type": "code",
   "execution_count": 16,
   "id": "5ab3874e",
   "metadata": {},
   "outputs": [],
   "source": [
    "type(mapped_max_temps)\n",
    "#map object\n",
    "for item in mapped_max_temps:\n",
    "    print(item)"
   ]
  },
  {
   "cell_type": "code",
   "execution_count": 19,
   "id": "7e1b8637",
   "metadata": {},
   "outputs": [],
   "source": [
    "# Reduce: Find the overall maximum temperature by comparing max temperatures\n",
    "from functools import reduce\n",
    "\n",
    "overall_max_temp = reduce(lambda x, y: x if x[1] > y[1] else y, mapped_max_temps)\n"
   ]
  },
  {
   "cell_type": "code",
   "execution_count": 20,
   "id": "46508367",
   "metadata": {},
   "outputs": [
    {
     "name": "stdout",
     "output_type": "stream",
     "text": [
      "('2026', 33.0)\n"
     ]
    }
   ],
   "source": [
    "print(overall_max_temp)"
   ]
  },
  {
   "cell_type": "code",
   "execution_count": null,
   "id": "02a8e15c",
   "metadata": {},
   "outputs": [],
   "source": []
  }
 ],
 "metadata": {
  "kernelspec": {
   "display_name": "Python 3 (ipykernel)",
   "language": "python",
   "name": "python3"
  },
  "language_info": {
   "codemirror_mode": {
    "name": "ipython",
    "version": 3
   },
   "file_extension": ".py",
   "mimetype": "text/x-python",
   "name": "python",
   "nbconvert_exporter": "python",
   "pygments_lexer": "ipython3",
   "version": "3.9.7"
  }
 },
 "nbformat": 4,
 "nbformat_minor": 5
}
